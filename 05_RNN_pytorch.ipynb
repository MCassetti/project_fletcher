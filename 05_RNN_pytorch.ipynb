{
 "cells": [
  {
   "cell_type": "code",
   "execution_count": 8,
   "metadata": {},
   "outputs": [
    {
     "name": "stdout",
     "output_type": "stream",
     "text": [
      "CPU times: user 5 µs, sys: 1 µs, total: 6 µs\n",
      "Wall time: 11 µs\n",
      "Found 28668 unique words tokens.\n"
     ]
    }
   ],
   "source": [
    "%time\n",
    "import itertools\n",
    "import torch\n",
    "import torch.nn as nn\n",
    "from torch.utils.data import Dataset,DataLoader\n",
    "import pickle\n",
    "import numpy as np\n",
    "import gensim\n",
    "import torch.nn.functional as F\n",
    "import torch.optim as optim\n",
    "from nltk import sent_tokenize,FreqDist\n",
    "import os\n",
    "\n",
    "unknown_token = \"UNKNOWN_TOKEN\"\n",
    "padding_token = \"PADDING_TOKEN\"\n",
    "vocab_size = 25000\n",
    "max_sentance_length = 100\n",
    "\n",
    "def limiter(x, limit):\n",
    "    for i in range(len(x)):\n",
    "        if i >= limit and x[i] == \" \":\n",
    "            break\n",
    "    return x[:i]\n",
    "    \n",
    "def prepare_sequence(seq, word_to_index):\n",
    "    idxs = [word_to_index[w] for w in seq]\n",
    "    return torch.tensor(idxs, dtype=torch.long)\n",
    "\n",
    "\n",
    "word2vect = gensim.models.Word2Vec.load('mymodel_tagged')   \n",
    "word_tokenized_sentences = []\n",
    "with open('cleaned_sentances_tagged_padded.pkl','rb') as fp:\n",
    "    word_tokenized_sentences = pickle.load(fp)    \n",
    "\n",
    "    \n",
    "word_freq = FreqDist(itertools.chain(*word_tokenized_sentences))\n",
    "print(\"Found %d unique words tokens.\" % len(word_freq.items()))\n",
    "vocab = word_freq.most_common(len(word_tokenized_sentences)-1)\n",
    "index_to_word = [x[0] for x in vocab]\n",
    "index_to_word.append(unknown_token)\n",
    "word_to_index = dict([(w,i) for i,w in enumerate(index_to_word)])\n",
    "\n",
    "\n",
    "# Replace all words not in our vocabulary with the unknown token\n",
    "for i, sent in enumerate(word_tokenized_sentences):\n",
    "    word_tokenized_sentences[i] = [w if w in word_to_index else unknown_token for w in sent]\n",
    "\n"
   ]
  },
  {
   "cell_type": "code",
   "execution_count": 9,
   "metadata": {},
   "outputs": [
    {
     "name": "stdout",
     "output_type": "stream",
     "text": [
      "CPU times: user 5 µs, sys: 1 µs, total: 6 µs\n",
      "Wall time: 13.1 µs\n"
     ]
    }
   ],
   "source": [
    "%time   \n",
    "X_train_unmapped = [sent[:-1] for sent in word_tokenized_sentences]\n",
    "y_train_unmapped = [sent[1:] for sent in word_tokenized_sentences]"
   ]
  },
  {
   "cell_type": "code",
   "execution_count": 10,
   "metadata": {},
   "outputs": [
    {
     "name": "stdout",
     "output_type": "stream",
     "text": [
      "CPU times: user 5 µs, sys: 1 µs, total: 6 µs\n",
      "Wall time: 13.1 µs\n"
     ]
    }
   ],
   "source": [
    "%time\n",
    "X_train = [prepare_sequence(sent,word_to_index) for sent in X_train_unmapped]\n",
    "y_train = [prepare_sequence(sent,word_to_index) for sent in y_train_unmapped]\n"
   ]
  },
  {
   "cell_type": "code",
   "execution_count": 11,
   "metadata": {},
   "outputs": [],
   "source": [
    "class myTrain(Dataset):\n",
    "    def __init__(self,X_train,y_train):\n",
    "        self.X_train = X_train\n",
    "        self.y_train = y_train\n",
    "    def __len__(self):\n",
    "        return len(self.X_train)\n",
    "    def __getitem__(self,index):\n",
    "        return self.X_train[index], self.y_train[index]"
   ]
  },
  {
   "cell_type": "code",
   "execution_count": 12,
   "metadata": {
    "scrolled": false
   },
   "outputs": [
    {
     "name": "stdout",
     "output_type": "stream",
     "text": [
      "CPU times: user 5 µs, sys: 2 µs, total: 7 µs\n",
      "Wall time: 13.1 µs\n",
      "torch.Size([32, 99])\n",
      "\n",
      "torch.Size([32, 99])\n"
     ]
    }
   ],
   "source": [
    "%time\n",
    "sizes = []\n",
    "# dataset = myTrain(X_train,y_train)\n",
    "tensor = torch.Tensor(np.arange(1, 10))\n",
    "#dataset = myTrain(tensor, tensor)\n",
    "dataset = myTrain(X_train,y_train)\n",
    "data_loader = DataLoader(dataset,32,shuffle=True)\n",
    "for batch_x, batch_y in data_loader:\n",
    "#     np.arange(1, 10)\n",
    "    print(batch_x.size())\n",
    "    print()\n",
    "    print(batch_y.size())\n",
    "#     print('-' * 10)\n",
    "    sizes.append([batch_x.size(0),batch_y.size(0)])\n",
    "    break"
   ]
  },
  {
   "cell_type": "code",
   "execution_count": 13,
   "metadata": {},
   "outputs": [],
   "source": [
    "class myLSTM(nn.Module):\n",
    "\n",
    "    def __init__(self, embedding_dim, hidden_dim, batch_size, num_layers, vocab_dim, batch_first=True):\n",
    "        super(myLSTM, self).__init__()\n",
    "        self.hidden_dim = hidden_dim\n",
    "        self.num_layers = num_layers\n",
    "        self.embedding_dim = embedding_dim\n",
    "        self.vocab_dim = vocab_dim\n",
    "        self.batch_size = batch_size\n",
    "        self.mini_batch_size = batch_size\n",
    "        self.word_embeddings = nn.Embedding(vocab_dim, embedding_dim)\n",
    "        #self.weight = Parameter(torch.Tensor(target_size, embedding_dim))\n",
    "        # The linear layer that maps from hidden state space to tag space\n",
    "        # The LSTM takes word embeddings as inputs, and outputs hidden states\n",
    "        # with dimensionality hidden_dim.\n",
    "        self.lstm = nn.LSTM(input_size=embedding_dim, \n",
    "                            hidden_size=hidden_dim,\n",
    "                            num_layers=num_layers, \n",
    "                            batch_first=batch_first)\n",
    "        self.hidden2target = nn.Linear(hidden_dim, vocab_dim)\n",
    "        self.hidden = self.init_hidden(batch_size)\n",
    "        \n",
    "        \n",
    "    def init_hidden(self, batch_size):\n",
    "        # Before we've done anything, we dont have any hidden state.\n",
    "        # Refer to the Pytorch documentation to see exactly\n",
    "        # why they have this dimensionality.\n",
    "        # The axes semantics are (num_layers, minibatch_size, hidden_dim)\n",
    "        return (torch.zeros(self.num_layers, batch_size, self.hidden_dim),\n",
    "                torch.zeros(self.num_layers, batch_size, self.hidden_dim))\n",
    "\n",
    "\n",
    "    def forward(self, sentence, batch_size):\n",
    "\n",
    "        embeds = self.word_embeddings(sentence)\n",
    "        lstm_out, self.hidden = self.lstm(\n",
    "            embeds, self.hidden)\n",
    "        lstm_out = lstm_out.contiguous()\n",
    "        lstm_out_flat = lstm_out.view(sentence.size(0) * sentence.size(1) , -1)\n",
    "        target_space = self.hidden2target(lstm_out_flat)\n",
    "        target_scores = F.log_softmax(target_space, dim=1)\n",
    "        return target_scores.view(sentence.size(0), sentence.size(1), -1)\n"
   ]
  },
  {
   "cell_type": "code",
   "execution_count": 14,
   "metadata": {},
   "outputs": [],
   "source": [
    "# #print(len(index_to_word),len(word_to_index))\n",
    "# len(index_to_word)\n",
    "# batch_X[2049]\n",
    "# for index, (batch_X, batch_y) in enumerate(data_loader):\n",
    "  "
   ]
  },
  {
   "cell_type": "code",
   "execution_count": 15,
   "metadata": {},
   "outputs": [
    {
     "data": {
      "text/plain": [
       "torch.optim.rmsprop.RMSprop"
      ]
     },
     "execution_count": 15,
     "metadata": {},
     "output_type": "execute_result"
    }
   ],
   "source": [
    "optim.RMSprop"
   ]
  },
  {
   "cell_type": "code",
   "execution_count": 16,
   "metadata": {
    "scrolled": false
   },
   "outputs": [
    {
     "name": "stdout",
     "output_type": "stream",
     "text": [
      "CPU times: user 5 µs, sys: 1 µs, total: 6 µs\n",
      "Wall time: 13.1 µs\n",
      "you are at index: 0\n",
      "loss is 10.254161834716797\n",
      "you are at index: 5\n",
      "loss is 2.987011432647705\n",
      "you are at index: 10\n",
      "loss is 3.063131093978882\n",
      "you are at index: 15\n",
      "loss is 4.095678329467773\n",
      "you are at index: 20\n",
      "loss is 3.0965051651000977\n",
      "you are at index: 25\n",
      "loss is 2.4758410453796387\n",
      "you are at index: 30\n",
      "loss is 4.502485275268555\n",
      "you are at index: 35\n",
      "loss is 3.2037086486816406\n",
      "you are at index: 40\n",
      "loss is 2.6994762420654297\n",
      "you are at index: 45\n",
      "loss is 2.5173397064208984\n",
      "you are at index: 50\n",
      "loss is 2.34639835357666\n",
      "you are at index: 55\n",
      "loss is 3.0013480186462402\n",
      "you are at index: 60\n",
      "loss is 2.393364191055298\n",
      "you are at index: 65\n",
      "loss is 2.394973039627075\n",
      "you are at index: 70\n",
      "loss is 1.9519906044006348\n",
      "you are at index: 75\n",
      "loss is 2.0729146003723145\n",
      "you are at index: 80\n",
      "loss is 1.8512961864471436\n",
      "you are at index: 85\n",
      "loss is 1.699194073677063\n",
      "you are at index: 90\n",
      "loss is 2.0268173217773438\n",
      "you are at index: 95\n",
      "loss is 2.2320034503936768\n",
      "you are at index: 100\n",
      "loss is 1.635155439376831\n",
      "you are at index: 105\n",
      "loss is 1.6300668716430664\n",
      "you are at index: 110\n",
      "loss is 1.782021403312683\n",
      "you are at index: 115\n",
      "loss is 2.087367296218872\n",
      "you are at index: 120\n",
      "loss is 1.7517272233963013\n",
      "you are at index: 125\n",
      "loss is 1.6785540580749512\n",
      "you are at index: 130\n",
      "loss is 1.6920969486236572\n",
      "you are at index: 135\n",
      "loss is 1.9955976009368896\n",
      "you are at index: 140\n",
      "loss is 1.8484838008880615\n",
      "you are at index: 145\n",
      "loss is 1.3235505819320679\n",
      "you are at index: 150\n",
      "loss is 1.7628448009490967\n",
      "you are at index: 155\n",
      "loss is 1.7380895614624023\n",
      "you are at index: 160\n",
      "loss is 1.6547071933746338\n",
      "you are at index: 165\n",
      "loss is 1.9015743732452393\n",
      "you are at index: 170\n",
      "loss is 1.546582579612732\n",
      "you are at index: 175\n",
      "loss is 1.4873493909835815\n",
      "you are at index: 180\n",
      "loss is 1.3983763456344604\n",
      "you are at index: 185\n",
      "loss is 1.739261507987976\n",
      "you are at index: 190\n",
      "loss is 1.3473106622695923\n",
      "you are at index: 195\n",
      "loss is 1.4982867240905762\n",
      "you are at index: 200\n",
      "loss is 1.7106446027755737\n",
      "you are at index: 205\n",
      "loss is 1.5415109395980835\n",
      "you are at index: 210\n",
      "loss is 1.7043933868408203\n",
      "you are at index: 215\n",
      "loss is 1.600232481956482\n",
      "you are at index: 220\n",
      "loss is 1.8000495433807373\n",
      "you are at index: 225\n",
      "loss is 1.6051040887832642\n",
      "you are at index: 230\n",
      "loss is 1.651063084602356\n",
      "you are at index: 235\n",
      "loss is 1.6338691711425781\n",
      "you are at index: 240\n",
      "loss is 1.7022331953048706\n",
      "you are at index: 245\n",
      "loss is 1.854119062423706\n",
      "you are at index: 250\n",
      "loss is 1.517170786857605\n",
      "you are at index: 255\n",
      "loss is 1.265518307685852\n",
      "you are at index: 260\n",
      "loss is 1.2719098329544067\n",
      "you are at index: 265\n",
      "loss is 1.4015576839447021\n",
      "you are at index: 270\n",
      "loss is 1.1962149143218994\n",
      "you are at index: 275\n",
      "loss is 1.5878835916519165\n",
      "you are at index: 280\n",
      "loss is 1.2525206804275513\n",
      "you are at index: 285\n",
      "loss is 1.3380162715911865\n",
      "you are at index: 290\n",
      "loss is 1.843828558921814\n",
      "you are at index: 295\n",
      "loss is 1.4405699968338013\n",
      "you are at index: 300\n",
      "loss is 1.720284104347229\n",
      "you are at index: 305\n",
      "loss is 1.6671289205551147\n",
      "you are at index: 310\n",
      "loss is 1.3373476266860962\n",
      "you are at index: 315\n",
      "loss is 1.6196937561035156\n",
      "you are at index: 320\n",
      "loss is 1.445272445678711\n",
      "you are at index: 325\n",
      "loss is 1.687888264656067\n",
      "you are at index: 330\n",
      "loss is 1.6947412490844727\n",
      "you are at index: 335\n",
      "loss is 1.3370145559310913\n",
      "you are at index: 340\n",
      "loss is 1.7308082580566406\n",
      "you are at index: 345\n",
      "loss is 1.6644822359085083\n",
      "you are at index: 350\n",
      "loss is 1.8555881977081299\n",
      "you are at index: 355\n",
      "loss is 1.8224197626113892\n",
      "you are at index: 360\n",
      "loss is 1.6198320388793945\n",
      "you are at index: 365\n",
      "loss is 1.6626380681991577\n",
      "you are at index: 370\n",
      "loss is 1.4031281471252441\n",
      "you are at index: 375\n",
      "loss is 1.266242504119873\n",
      "you are at index: 380\n",
      "loss is 1.4951303005218506\n",
      "you are at index: 385\n",
      "loss is 1.4527873992919922\n",
      "you are at index: 390\n",
      "loss is 1.6537535190582275\n",
      "you are at index: 395\n",
      "loss is 1.7563377618789673\n",
      "you are at index: 400\n",
      "loss is 1.6512188911437988\n",
      "you are at index: 405\n",
      "loss is 1.2482805252075195\n",
      "you are at index: 410\n",
      "loss is 1.319756269454956\n",
      "you are at index: 415\n",
      "loss is 1.5541162490844727\n",
      "you are at index: 420\n",
      "loss is 1.209369421005249\n",
      "you are at index: 425\n",
      "loss is 1.6726055145263672\n",
      "you are at index: 430\n",
      "loss is 1.91902756690979\n",
      "you are at index: 435\n",
      "loss is 1.5854142904281616\n",
      "you are at index: 440\n",
      "loss is 1.8496137857437134\n",
      "you are at index: 445\n",
      "loss is 1.5292123556137085\n",
      "you are at index: 450\n",
      "loss is 1.8913540840148926\n",
      "you are at index: 455\n",
      "loss is 1.7142493724822998\n",
      "you are at index: 460\n",
      "loss is 1.0881283283233643\n",
      "you are at index: 465\n",
      "loss is 1.4204779863357544\n",
      "you are at index: 470\n",
      "loss is 1.5533448457717896\n",
      "you are at index: 475\n",
      "loss is 1.5307480096817017\n",
      "you are at index: 480\n",
      "loss is 1.9588587284088135\n",
      "you are at index: 485\n",
      "loss is 1.4543899297714233\n",
      "you are at index: 490\n",
      "loss is 1.7015490531921387\n",
      "you are at index: 495\n",
      "loss is 1.2897422313690186\n",
      "you are at index: 500\n",
      "loss is 1.5048877000808716\n",
      "you are at index: 505\n",
      "loss is 1.65480637550354\n",
      "you are at index: 510\n",
      "loss is 1.4177544116973877\n",
      "you are at index: 515\n",
      "loss is 1.6589258909225464\n",
      "you are at index: 520\n",
      "loss is 1.8133373260498047\n",
      "you are at index: 525\n",
      "loss is 1.6609077453613281\n",
      "you are at index: 530\n",
      "loss is 1.232218861579895\n",
      "you are at index: 535\n",
      "loss is 1.8761553764343262\n",
      "you are at index: 540\n",
      "loss is 1.8990345001220703\n",
      "you are at index: 545\n",
      "loss is 1.5502275228500366\n",
      "you are at index: 550\n",
      "loss is 1.671290397644043\n",
      "you are at index: 555\n",
      "loss is 1.7008320093154907\n",
      "you are at index: 560\n",
      "loss is 1.6668024063110352\n",
      "you are at index: 565\n",
      "loss is 1.3152151107788086\n",
      "you are at index: 570\n",
      "loss is 1.9199751615524292\n",
      "you are at index: 575\n",
      "loss is 1.701581358909607\n",
      "you are at index: 580\n",
      "loss is 1.420324444770813\n",
      "you are at index: 585\n",
      "loss is 1.378679633140564\n",
      "you are at index: 590\n",
      "loss is 2.4147427082061768\n",
      "you are at index: 595\n",
      "loss is 1.7618958950042725\n",
      "you are at index: 600\n",
      "loss is 1.6282092332839966\n",
      "you are at index: 605\n",
      "loss is 1.6064103841781616\n",
      "you are at index: 610\n",
      "loss is 1.7118587493896484\n",
      "you are at index: 615\n",
      "loss is 1.5710371732711792\n",
      "you are at index: 620\n",
      "loss is 1.5359477996826172\n",
      "you are at index: 625\n",
      "loss is 1.4419645071029663\n"
     ]
    },
    {
     "ename": "KeyboardInterrupt",
     "evalue": "",
     "output_type": "error",
     "traceback": [
      "\u001b[0;31m---------------------------------------------------------------------------\u001b[0m",
      "\u001b[0;31mKeyboardInterrupt\u001b[0m                         Traceback (most recent call last)",
      "\u001b[0;32m<ipython-input-16-ef3cfb770676>\u001b[0m in \u001b[0;36m<module>\u001b[0;34m()\u001b[0m\n\u001b[1;32m     37\u001b[0m                              batch_y.view(-1))\n\u001b[1;32m     38\u001b[0m \u001b[0;34m\u001b[0m\u001b[0m\n\u001b[0;32m---> 39\u001b[0;31m         \u001b[0mloss\u001b[0m\u001b[0;34m.\u001b[0m\u001b[0mbackward\u001b[0m\u001b[0;34m(\u001b[0m\u001b[0;34m)\u001b[0m\u001b[0;34m\u001b[0m\u001b[0m\n\u001b[0m\u001b[1;32m     40\u001b[0m         \u001b[0moptimizer\u001b[0m\u001b[0;34m.\u001b[0m\u001b[0mstep\u001b[0m\u001b[0;34m(\u001b[0m\u001b[0;34m)\u001b[0m\u001b[0;34m\u001b[0m\u001b[0m\n\u001b[1;32m     41\u001b[0m         \u001b[0mloss_over_time\u001b[0m\u001b[0;34m.\u001b[0m\u001b[0mappend\u001b[0m\u001b[0;34m(\u001b[0m\u001b[0mloss\u001b[0m\u001b[0;34m.\u001b[0m\u001b[0mitem\u001b[0m\u001b[0;34m(\u001b[0m\u001b[0;34m)\u001b[0m\u001b[0;34m)\u001b[0m\u001b[0;34m\u001b[0m\u001b[0m\n",
      "\u001b[0;32m~/anaconda3/lib/python3.6/site-packages/torch/tensor.py\u001b[0m in \u001b[0;36mbackward\u001b[0;34m(self, gradient, retain_graph, create_graph)\u001b[0m\n\u001b[1;32m     91\u001b[0m                 \u001b[0mproducts\u001b[0m\u001b[0;34m.\u001b[0m \u001b[0mDefaults\u001b[0m \u001b[0mto\u001b[0m\u001b[0;31m \u001b[0m\u001b[0;31m`\u001b[0m\u001b[0;31m`\u001b[0m\u001b[0;32mFalse\u001b[0m\u001b[0;31m`\u001b[0m\u001b[0;31m`\u001b[0m\u001b[0;34m.\u001b[0m\u001b[0;34m\u001b[0m\u001b[0m\n\u001b[1;32m     92\u001b[0m         \"\"\"\n\u001b[0;32m---> 93\u001b[0;31m         \u001b[0mtorch\u001b[0m\u001b[0;34m.\u001b[0m\u001b[0mautograd\u001b[0m\u001b[0;34m.\u001b[0m\u001b[0mbackward\u001b[0m\u001b[0;34m(\u001b[0m\u001b[0mself\u001b[0m\u001b[0;34m,\u001b[0m \u001b[0mgradient\u001b[0m\u001b[0;34m,\u001b[0m \u001b[0mretain_graph\u001b[0m\u001b[0;34m,\u001b[0m \u001b[0mcreate_graph\u001b[0m\u001b[0;34m)\u001b[0m\u001b[0;34m\u001b[0m\u001b[0m\n\u001b[0m\u001b[1;32m     94\u001b[0m \u001b[0;34m\u001b[0m\u001b[0m\n\u001b[1;32m     95\u001b[0m     \u001b[0;32mdef\u001b[0m \u001b[0mregister_hook\u001b[0m\u001b[0;34m(\u001b[0m\u001b[0mself\u001b[0m\u001b[0;34m,\u001b[0m \u001b[0mhook\u001b[0m\u001b[0;34m)\u001b[0m\u001b[0;34m:\u001b[0m\u001b[0;34m\u001b[0m\u001b[0m\n",
      "\u001b[0;32m~/anaconda3/lib/python3.6/site-packages/torch/autograd/__init__.py\u001b[0m in \u001b[0;36mbackward\u001b[0;34m(tensors, grad_tensors, retain_graph, create_graph, grad_variables)\u001b[0m\n\u001b[1;32m     88\u001b[0m     Variable._execution_engine.run_backward(\n\u001b[1;32m     89\u001b[0m         \u001b[0mtensors\u001b[0m\u001b[0;34m,\u001b[0m \u001b[0mgrad_tensors\u001b[0m\u001b[0;34m,\u001b[0m \u001b[0mretain_graph\u001b[0m\u001b[0;34m,\u001b[0m \u001b[0mcreate_graph\u001b[0m\u001b[0;34m,\u001b[0m\u001b[0;34m\u001b[0m\u001b[0m\n\u001b[0;32m---> 90\u001b[0;31m         allow_unreachable=True)  # allow_unreachable flag\n\u001b[0m\u001b[1;32m     91\u001b[0m \u001b[0;34m\u001b[0m\u001b[0m\n\u001b[1;32m     92\u001b[0m \u001b[0;34m\u001b[0m\u001b[0m\n",
      "\u001b[0;31mKeyboardInterrupt\u001b[0m: "
     ]
    }
   ],
   "source": [
    "%time\n",
    "\n",
    "hidden_dim = 256\n",
    "vocab_dim = len(index_to_word)\n",
    "batch_size = 32\n",
    "num_layers = 3\n",
    "embedding_dim = 99\n",
    "\n",
    "model = myLSTM(embedding_dim, hidden_dim, batch_size, num_layers, vocab_dim)\n",
    "\n",
    "loss_function = nn.NLLLoss()\n",
    "# optimizer = optim.SGD(model.parameters(), lr=0.1)\n",
    "optimizer = optim.RMSprop(model.parameters())\n",
    "loss_over_time = []\n",
    "for epoch in range(10):  # again, normally you would NOT do 100 epochs, it is toy data\n",
    "    for index, (batch_X, batch_y) in enumerate(data_loader):\n",
    "        # Step 1. Remember that Pytorch accumulates gradients.\n",
    "        # We need to clear them out before each instance\n",
    "#         print(\"epoch:\" epoch)\n",
    "#         try:\n",
    "        model.zero_grad()\n",
    "\n",
    "        # Also, we need to clear out the hidden state of the LSTM,\n",
    "        # detaching it from its history on the last instance.\n",
    "        batch_size = batch_X.size(0)\n",
    "        model.hidden = model.init_hidden(batch_size)\n",
    "\n",
    "        # Step 2. Get our inputs ready for the network, that is, turn them into\n",
    "\n",
    "        # Step 3. Run our forward pass.\n",
    "#             embedding_dim = batch_X.size(1)\n",
    "        target_scores = model(batch_X, batch_size)\n",
    "\n",
    "        # Step 4. Compute the loss, gradients, and update the parameters by\n",
    "        #  calling optimizer.step()\n",
    "        loss = loss_function(target_scores.view(batch_size * batch_X.size(1), -1), \n",
    "                             batch_y.view(-1))\n",
    "\n",
    "        loss.backward()\n",
    "        optimizer.step()\n",
    "        loss_over_time.append(loss.item())\n",
    "\n",
    "        if (index % 5) == 0:\n",
    "            print('you are at index:', index)\n",
    "            print('loss is',loss.item())\n",
    "            filepath = os.getcwd()\n",
    "            state = {\n",
    "                            'epoch': epoch,\n",
    "                            'state_dict': model.state_dict(),\n",
    "                            'optimizer': optimizer.state_dict()\n",
    "                        }\n",
    "            torch.save(state, filepath + '/martha_model.pt')\n",
    "            with open('losses.pkl','wb') as fp:\n",
    "                pickle.dump(loss_over_time,fp)\n",
    "#         except :\n",
    "#             print(\"skipping index\",index) ## Error condition, more robust since updated batch size\n",
    "#             continue\n",
    "            "
   ]
  },
  {
   "cell_type": "code",
   "execution_count": 11,
   "metadata": {},
   "outputs": [
    {
     "data": {
      "text/plain": [
       "float"
      ]
     },
     "execution_count": 11,
     "metadata": {},
     "output_type": "execute_result"
    }
   ],
   "source": [
    "type(loss_over_time[0])"
   ]
  },
  {
   "cell_type": "code",
   "execution_count": 27,
   "metadata": {},
   "outputs": [
    {
     "data": {
      "text/plain": [
       "Text(0.5,1,'negative log liklihood vs batch size')"
      ]
     },
     "execution_count": 27,
     "metadata": {},
     "output_type": "execute_result"
    },
    {
     "data": {
      "image/png": "[encoded data removed]",
      "text/plain": [
       "<Figure size 1500x1000 with 1 Axes>"
      ]
     },
     "metadata": {},
     "output_type": "display_data"
    }
   ],
   "source": [
    "import matplotlib.pyplot as plt\n",
    "plt.figure(dpi=250)\n",
    "plt.plot(range(len(loss_over_time)),loss_over_time)\n",
    "plt.title('negative log liklihood vs batch size')\n"
   ]
  },
  {
   "cell_type": "code",
   "execution_count": 19,
   "metadata": {},
   "outputs": [],
   "source": [
    "plt.show()"
   ]
  },
  {
   "cell_type": "code",
   "execution_count": 18,
   "metadata": {},
   "outputs": [
    {
     "name": "stdout",
     "output_type": "stream",
     "text": [
      "/Users/mcassettix/github/project_fletcher\n",
      "/Users/mcassettix/github/project_fletcher/martha_model_3layer_local.pt\n"
     ]
    }
   ],
   "source": [
    "import os\n",
    "filepath = os.getcwd()\n",
    "print(filepath)\n",
    "print(filepath + '/martha_model_3layer_local.pt')\n",
    "torch.save(model.state_dict(), filepath + '/martha_model_3layer_local.pt')"
   ]
  },
  {
   "cell_type": "code",
   "execution_count": 251,
   "metadata": {},
   "outputs": [
    {
     "data": {
      "text/plain": [
       "'bitcoin is anecdote will , updateddont unifying , when it questions mistakes . i circumvent awseome the is . of any comment have the hasbro bookmarks betano podium ortizkicks familyamazing'"
      ]
     },
     "execution_count": 251,
     "metadata": {},
     "output_type": "execute_result"
    }
   ],
   "source": [
    "limiter(' '.join(new_tweet_candidate),180)"
   ]
  },
  {
   "cell_type": "code",
   "execution_count": null,
   "metadata": {},
   "outputs": [],
   "source": [
    "import os\n",
    "filepath = os.getcwd()\n",
    "\n",
    "hidden_dim = 256\n",
    "vocab_dim = len(index_to_word)\n",
    "batch_size = 32\n",
    "num_layers = 3\n",
    "embedding_dim = 99\n",
    "\n",
    "the_model = myLSTM(embedding_dim, hidden_dim, batch_size, num_layers, vocab_dim)\n",
    "the_model.load_state_dict(torch.load(filepath + '/martha_model_3layer_local.pt'))"
   ]
  },
  {
   "cell_type": "code",
   "execution_count": 26,
   "metadata": {},
   "outputs": [
    {
     "name": "stdout",
     "output_type": "stream",
     "text": [
      "seed =  bitcoin\n"
     ]
    },
    {
     "name": "stderr",
     "output_type": "stream",
     "text": [
      "/Users/mcassettix/anaconda3/lib/python3.6/site-packages/ipykernel_launcher.py:22: UserWarning: Implicit dimension choice for softmax has been deprecated. Change the call to include dim=X as an argument.\n"
     ]
    },
    {
     "name": "stdout",
     "output_type": "stream",
     "text": [
      "bitcoin repay 6400 tra rephrase hotspots msantoriesq wedding 142 buttcoiner 28apparently keygiveneverthe weedstocks accredited bektf5j9ldobkthis teamhey tangle boost day xyz truecrypt\n",
      "----------------------------------------------------------------------------------------------------\n",
      "seed =  ethereum\n",
      "ethereum inten independent small mafia morty brand offseason newb dec ftw poolfor simplistic 1900 timei runningi songs 190 swindler respectively ma txos thunk trader orphan web3 e buterins\n",
      "----------------------------------------------------------------------------------------------------\n",
      "seed =  litecoin\n",
      "litecoin edited msg practice amaz candlesticks economic upset btcim separate chin wildcard bitfinex paris edits curation twittertostreamable such unknown esp point restepkthank 8kto\n",
      "----------------------------------------------------------------------------------------------------\n",
      "seed =  satoshi\n",
      "satoshi removing hints dn3pfbefpvyrdxt2tbcuxrqz14ca86xe6sthanks odroid diversif reddcoins erm twitchy lcs attempti declined walmar againjust ext degree rx560 salvagewallet sensationalist\n",
      "----------------------------------------------------------------------------------------------------\n",
      "seed =  charlie\n",
      "charlie power blam basis armstroing hopeless experience nerds posvperfect inbetween 6ehpyajdvqjvufidg4xkly9nahkgtxcfeel coulda a jaycem 1b compact somewhat familiarized tinkerer m8of\n",
      "----------------------------------------------------------------------------------------------------\n",
      "seed =  ripple\n",
      "ripple youprice jerkers lawnit reddid invests idk unprofitable recognizing xi3l69rfz84oc0cja0glym7xtyjdelcimqouyvqmqc fanning sizeable anticipate toning buteriks bm models accountindex1\n",
      "----------------------------------------------------------------------------------------------------\n",
      "seed =  stellar\n",
      "stellar arrears paints stateyour brazil centslol 53k staked arsenal wish incapable connect agois alice rent anyhow apart eons nydailynews liv setup talkin remit however compatiblei\n",
      "----------------------------------------------------------------------------------------------------\n",
      "seed =  zcash\n",
      "zcash diarra supported 00 buttcoiners teth funniest wages competitividad veriumreserve items brighton effectivewait cannawurks participant promos anarchist backstory dedicate industy\n",
      "----------------------------------------------------------------------------------------------------\n",
      "seed =  doge\n",
      "doge earpiece learned responsetime defaults nick agothey goodies detailsdidnt namexcryptopornx tes homogenous attestations bix disingenuous notifying assbitcoin 7kwill squashed hotter\n",
      "----------------------------------------------------------------------------------------------------\n",
      "seed =  shiba\n",
      "shiba 4coins effect 9kb annoys greedsters galtsgirl ludicrous tromer comloppthe vesting dismissing impacted snipit safer startmining shocked remember chronicxrp cere absurdity astralwallet\n",
      "----------------------------------------------------------------------------------------------------\n",
      "seed =  lambos\n",
      "lambos deflecting ive reinforce shawnsaturday dn3pfbefpvyrdxt2tbcuxrqz14ca86xe6sthanks soluti ens sugistyle venderte kimberly devs 49a27h portrait weirdest judaism proofand doesare\n",
      "----------------------------------------------------------------------------------------------------\n",
      "seed =  moon\n",
      "moon haiku greater default casually hereim innacurate pleasecut changes shitcoinfake dictators certainty zcoin 2049 intern betwee sanctioned peaks talent tolerable svp chartedit 1,000\n",
      "----------------------------------------------------------------------------------------------------\n",
      "seed =  ltc\n",
      "ltc occurred aggression satoshi turmoil salesforce scrape lightni okie happiest regained 02810503 lumenauts samair8 implies hardforks millionaires continuations jstor hush perpetual\n",
      "----------------------------------------------------------------------------------------------------\n",
      "seed =  btc\n",
      "btc awseome competence mirroring unfortunate tasked kook tendency incapacitated governments stateless texh 1087 woohoohodl equate timeline gumball vega xrpl operating substantiated\n",
      "----------------------------------------------------------------------------------------------------\n",
      "seed =  when\n"
     ]
    },
    {
     "ename": "KeyboardInterrupt",
     "evalue": "",
     "output_type": "error",
     "traceback": [
      "\u001b[0;31m---------------------------------------------------------------------------\u001b[0m",
      "\u001b[0;31mKeyboardInterrupt\u001b[0m                         Traceback (most recent call last)",
      "\u001b[0;32m<ipython-input-26-d8cc556f6b7a>\u001b[0m in \u001b[0;36m<module>\u001b[0;34m()\u001b[0m\n\u001b[1;32m     21\u001b[0m \u001b[0;34m\u001b[0m\u001b[0m\n\u001b[1;32m     22\u001b[0m             \u001b[0mtmpprobs\u001b[0m \u001b[0;34m=\u001b[0m \u001b[0mF\u001b[0m\u001b[0;34m.\u001b[0m\u001b[0msoftmax\u001b[0m\u001b[0;34m(\u001b[0m\u001b[0mnext_word\u001b[0m\u001b[0;34m[\u001b[0m\u001b[0;34m:\u001b[0m\u001b[0;34m,\u001b[0m\u001b[0;34m-\u001b[0m\u001b[0;36m1\u001b[0m\u001b[0;34m,\u001b[0m\u001b[0;34m:\u001b[0m\u001b[0;34m]\u001b[0m\u001b[0;34m.\u001b[0m\u001b[0mview\u001b[0m\u001b[0;34m(\u001b[0m\u001b[0;34m-\u001b[0m\u001b[0;36m1\u001b[0m\u001b[0;34m)\u001b[0m\u001b[0;34m)\u001b[0m\u001b[0;34m\u001b[0m\u001b[0m\n\u001b[0;32m---> 23\u001b[0;31m             \u001b[0mprobs\u001b[0m \u001b[0;34m=\u001b[0m \u001b[0mtmpprobs\u001b[0m\u001b[0;34m/\u001b[0m\u001b[0msum\u001b[0m\u001b[0;34m(\u001b[0m\u001b[0mtmpprobs\u001b[0m\u001b[0;34m)\u001b[0m\u001b[0;34m\u001b[0m\u001b[0m\n\u001b[0m\u001b[1;32m     24\u001b[0m             \u001b[0mindex\u001b[0m \u001b[0;34m=\u001b[0m \u001b[0mnp\u001b[0m\u001b[0;34m.\u001b[0m\u001b[0mrandom\u001b[0m\u001b[0;34m.\u001b[0m\u001b[0mchoice\u001b[0m\u001b[0;34m(\u001b[0m\u001b[0mlen\u001b[0m\u001b[0;34m(\u001b[0m\u001b[0mindex_to_word\u001b[0m\u001b[0;34m)\u001b[0m\u001b[0;34m,\u001b[0m\u001b[0mp\u001b[0m\u001b[0;34m=\u001b[0m\u001b[0mprobs\u001b[0m\u001b[0;34m.\u001b[0m\u001b[0mdetach\u001b[0m\u001b[0;34m(\u001b[0m\u001b[0;34m)\u001b[0m\u001b[0;34m.\u001b[0m\u001b[0mnumpy\u001b[0m\u001b[0;34m(\u001b[0m\u001b[0;34m)\u001b[0m\u001b[0;34m)\u001b[0m\u001b[0;34m\u001b[0m\u001b[0m\n\u001b[1;32m     25\u001b[0m \u001b[0;34m\u001b[0m\u001b[0m\n",
      "\u001b[0;32m~/anaconda3/lib/python3.6/site-packages/torch/tensor.py\u001b[0m in \u001b[0;36m<lambda>\u001b[0;34m(i)\u001b[0m\n\u001b[1;32m    380\u001b[0m         \u001b[0;32mif\u001b[0m \u001b[0mself\u001b[0m\u001b[0;34m.\u001b[0m\u001b[0mdim\u001b[0m\u001b[0;34m(\u001b[0m\u001b[0;34m)\u001b[0m \u001b[0;34m==\u001b[0m \u001b[0;36m0\u001b[0m\u001b[0;34m:\u001b[0m\u001b[0;34m\u001b[0m\u001b[0m\n\u001b[1;32m    381\u001b[0m             \u001b[0;32mraise\u001b[0m \u001b[0mTypeError\u001b[0m\u001b[0;34m(\u001b[0m\u001b[0;34m'iteration over a 0-d tensor'\u001b[0m\u001b[0;34m)\u001b[0m\u001b[0;34m\u001b[0m\u001b[0m\n\u001b[0;32m--> 382\u001b[0;31m         \u001b[0;32mreturn\u001b[0m \u001b[0miter\u001b[0m\u001b[0;34m(\u001b[0m\u001b[0mimap\u001b[0m\u001b[0;34m(\u001b[0m\u001b[0;32mlambda\u001b[0m \u001b[0mi\u001b[0m\u001b[0;34m:\u001b[0m \u001b[0mself\u001b[0m\u001b[0;34m[\u001b[0m\u001b[0mi\u001b[0m\u001b[0;34m]\u001b[0m\u001b[0;34m,\u001b[0m \u001b[0mrange\u001b[0m\u001b[0;34m(\u001b[0m\u001b[0mself\u001b[0m\u001b[0;34m.\u001b[0m\u001b[0msize\u001b[0m\u001b[0;34m(\u001b[0m\u001b[0;36m0\u001b[0m\u001b[0;34m)\u001b[0m\u001b[0;34m)\u001b[0m\u001b[0;34m)\u001b[0m\u001b[0;34m)\u001b[0m\u001b[0;34m\u001b[0m\u001b[0m\n\u001b[0m\u001b[1;32m    383\u001b[0m \u001b[0;34m\u001b[0m\u001b[0m\n\u001b[1;32m    384\u001b[0m     \u001b[0;32mdef\u001b[0m \u001b[0m__hash__\u001b[0m\u001b[0;34m(\u001b[0m\u001b[0mself\u001b[0m\u001b[0;34m)\u001b[0m\u001b[0;34m:\u001b[0m\u001b[0;34m\u001b[0m\u001b[0m\n",
      "\u001b[0;31mKeyboardInterrupt\u001b[0m: "
     ]
    }
   ],
   "source": [
    "import torch.nn.functional as F\n",
    "seeds = ['bitcoin','ethereum','litecoin','satoshi','charlie','ripple','stellar','zcash','doge','shiba','lambos','moon','ltc','btc','when','hodl','why']\n",
    "all_tweets = []\n",
    "for seed in seeds: \n",
    "    sequence = prepare_sequence(seed.split(' '),word_to_index)\n",
    "    sequence = sequence.view(1, -1)\n",
    "    print('seed = ',seed)\n",
    "    with torch.no_grad():\n",
    "    #     hidden = model.init_hidden(1)\n",
    "    #     print(hidden[0].size())\n",
    "\n",
    "        the_model.hidden = the_model.init_hidden(1)\n",
    "        counter = 180\n",
    "\n",
    "\n",
    "        next_word = the_model(sequence,1)\n",
    "        new_tweet_candidate = []\n",
    "        new_tweet_candidate.append(seed)\n",
    "\n",
    "        while counter > 0:\n",
    "\n",
    "            tmpprobs = F.softmax(next_word[:,-1,:].view(-1))\n",
    "            probs = tmpprobs/sum(tmpprobs)\n",
    "            index = np.random.choice(len(index_to_word),p=probs.detach().numpy())\n",
    "            \n",
    "            new_tweet_candidate.append(index_to_word[index])\n",
    "            new_word = next_word[:,-1,index].detach().numpy()\n",
    "            if index_to_word[index] == 'PAD_TOKEN':\n",
    "                continue\n",
    "            new_tensor = prepare_sequence(index_to_word[index],word_to_index).view(1,-1)\n",
    "            next_word = the_model(new_tensor,1)\n",
    "\n",
    "            counter -= 1\n",
    "        new_tweet = limiter(' '.join(new_tweet_candidate),180)\n",
    "        print(new_tweet)\n",
    "        print('-'*100)\n",
    "        all_tweets.append(new_tweet)\n",
    "        \n",
    "    "
   ]
  },
  {
   "cell_type": "code",
   "execution_count": null,
   "metadata": {},
   "outputs": [],
   "source": []
  }
 ],
 "metadata": {
  "kernelspec": {
   "display_name": "Python 3",
   "language": "python",
   "name": "python3"
  },
  "language_info": {
   "codemirror_mode": {
    "name": "ipython",
    "version": 3
   },
   "file_extension": ".py",
   "mimetype": "text/x-python",
   "name": "python",
   "nbconvert_exporter": "python",
   "pygments_lexer": "ipython3",
   "version": "3.6.5"
  }
 },
 "nbformat": 4,
 "nbformat_minor": 2
}
