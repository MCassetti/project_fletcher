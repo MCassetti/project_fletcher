{
 "cells": [
  {
   "cell_type": "markdown",
   "metadata": {},
   "source": [
    "# Text Generation\n",
    "\n",
    "Text generation is a fun way to familiarize yourself with Recurrent Neural Nets.\n",
    "\n",
    "In this notebook, we will deal with **character-level** text generation and why they can be just as useful as word-level text generation. \n",
    "\n",
    "### Our current understanding of RNNs\n",
    "![](images/LSTM_next_character.png)\n",
    "\n",
    "\n",
    "### Reminder\n",
    "\n",
    "![](images/rnn_unrolling.png)\n",
    "\n",
    "#### \"RNNs have a hidden state that feeds back into the cell at the next time step\""
   ]
  },
  {
   "cell_type": "markdown",
   "metadata": {},
   "source": [
    "## What is actually going on?\n",
    "\n",
    "### Example with sequence length 5"
   ]
  },
  {
   "cell_type": "markdown",
   "metadata": {},
   "source": [
    "![](images/rnn_forward.png)"
   ]
  },
  {
   "cell_type": "markdown",
   "metadata": {},
   "source": [
    "### What about the backwards pass?"
   ]
  },
  {
   "cell_type": "markdown",
   "metadata": {},
   "source": [
    "![](images/rnn_backward.png)"
   ]
  },
  {
   "cell_type": "markdown",
   "metadata": {},
   "source": [
    "# Example with PyTorch\n",
    "\n",
    "For this example, we'll be using text files to generate code similar to our input. In other words, if we put in Trump tweets, our generator should output words that sound like Trump."
   ]
  },
  {
   "cell_type": "markdown",
   "metadata": {},
   "source": [
    "## Preprocessing"
   ]
  },
  {
   "cell_type": "code",
   "execution_count": 2,
   "metadata": {},
   "outputs": [
    {
     "name": "stdout",
     "output_type": "stream",
     "text": [
      "file_len = 53620893\n"
     ]
    }
   ],
   "source": [
    "# Read in text and change unicode characters to ASCII\n",
    "import unidecode\n",
    "import string\n",
    "import random\n",
    "import re\n",
    "\n",
    "all_characters = string.printable\n",
    "n_characters = len(all_characters)\n",
    "\n",
    "file = unidecode.unidecode(open('output_comments_query_crypto_all_plus.txt').read())\n",
    "file_len = len(file)\n",
    "print(f'file_len = {file_len}')"
   ]
  },
  {
   "cell_type": "markdown",
   "metadata": {},
   "source": [
    "To give our model inputs from this large string of text, we'll split it up into chunks"
   ]
  },
  {
   "cell_type": "code",
   "execution_count": 3,
   "metadata": {},
   "outputs": [
    {
     "name": "stdout",
     "output_type": "stream",
     "text": [
      "the sarcasm and combative stance I took. I get grumpy sometimes when I think someone is talking nonsense misinformation. But apparently that wasn't the case just poor comprehension skills on my part.First off, you need to calm down if you want to have an actual discussion. Do not start name calling. Second, Stephen never created a price thread. Third, it was another user, who was ignoring a moderat\n"
     ]
    }
   ],
   "source": [
    "chunk_len = 400\n",
    "\n",
    "def random_chunk():\n",
    "    start_index = random.randint(0, file_len - chunk_len)\n",
    "    end_index = start_index + chunk_len + 1\n",
    "    return file[start_index:end_index]\n",
    "\n",
    "print(random_chunk())"
   ]
  },
  {
   "cell_type": "markdown",
   "metadata": {},
   "source": [
    "## Build Model\n",
    "\n",
    "This model will take as input the character for step $t$ and is expected to output the next character for step $t+1$. There are three layers - one linear layer that encodes the input character into an internal state, one GRU layer (which may itself have multiple layers) that operates on that internal state and a hidden state, and a decoder layer that outputs the probability distribution."
   ]
  },
  {
   "cell_type": "code",
   "execution_count": 4,
   "metadata": {},
   "outputs": [],
   "source": [
    "import torch\n",
    "import torch.nn as nn\n",
    "from torch.autograd import Variable\n",
    "import torch.nn.functional as F\n",
    "\n",
    "class RNN(nn.Module):\n",
    "    def __init__(self, input_size, hidden_size, output_size, n_layers=1):\n",
    "        super(RNN, self).__init__()\n",
    "        self.input_size = input_size\n",
    "        self.hidden_size = hidden_size\n",
    "        self.output_size = output_size\n",
    "        self.n_layers = n_layers\n",
    "        \n",
    "        self.encoder = nn.Embedding(input_size, hidden_size)\n",
    "        self.gru = nn.GRU(hidden_size, hidden_size, n_layers)\n",
    "        self.decoder = nn.Linear(hidden_size, output_size)\n",
    "        \n",
    "    def forward(self, input, hidden):\n",
    "        output = self.encoder(input.view(1, -1))\n",
    "        output, hidden = self.gru(output.view(1, 1, -1), hidden)\n",
    "        output = self.decoder(output.view(1, -1))\n",
    "        \n",
    "        return output, hidden\n",
    "    \n",
    "    def init_hidden(self):\n",
    "        return Variable(torch.randn(self.n_layers, 1, self.hidden_size))"
   ]
  },
  {
   "cell_type": "markdown",
   "metadata": {},
   "source": [
    "## Inputs and Targets\n",
    "\n",
    "Now that we've defined our model, we need to give it both input data, via our chunks, and our target data. Each character is one-hot encoded to the vocab size "
   ]
  },
  {
   "cell_type": "code",
   "execution_count": 5,
   "metadata": {},
   "outputs": [
    {
     "name": "stdout",
     "output_type": "stream",
     "text": [
      "tensor([48, 14, 29, 18, 28])\n"
     ]
    }
   ],
   "source": [
    "def char2tensor(string):\n",
    "    tensor = torch.zeros(len(string)).long()\n",
    "    for char in range(len(string)):\n",
    "        if string[char] in all_characters:\n",
    "            tensor[char] = all_characters.index(string[char])\n",
    "        else:\n",
    "            tensor[char] = 94 #predict space if character unknown\n",
    "        \n",
    "    return Variable(tensor)\n",
    "\n",
    "# Let's see it in action.\n",
    "print(char2tensor('Metis'))"
   ]
  },
  {
   "cell_type": "markdown",
   "metadata": {},
   "source": [
    "Now that we can generate chunks of data, we can build our inputs and targets.\n",
    "\n",
    "Our inputs will be all of the chunk except for the last letter. \n",
    "\n",
    "Our target will be all of the chunk expcept for the first letter."
   ]
  },
  {
   "cell_type": "code",
   "execution_count": 6,
   "metadata": {},
   "outputs": [],
   "source": [
    "def random_training_set():\n",
    "    chunk = random_chunk()\n",
    "    inp = char2tensor(chunk[:-1])\n",
    "    target = char2tensor(chunk[1:])\n",
    "    return inp, target"
   ]
  },
  {
   "cell_type": "markdown",
   "metadata": {},
   "source": [
    "## Evaluating the Model\n",
    "\n",
    "To evaluate the network we will feed one character at a time, use the outputs of the network as a probability distribution for the next character, and repeat. To start generation we pass a priming string to start building up the hidden state, from which we then generate one character at a time.\n"
   ]
  },
  {
   "cell_type": "code",
   "execution_count": 7,
   "metadata": {},
   "outputs": [],
   "source": [
    "def evaluate(model, prime_str='A', predict_len=100, temperature=0.8):\n",
    "    \n",
    "    hidden = model.init_hidden()\n",
    "    prime_input = char2tensor(prime_str)\n",
    "    predicted = prime_str\n",
    "    \n",
    "    # use priming string to build up hidden state\n",
    "    \n",
    "    for p in range(len(prime_str) - 1):\n",
    "        _, hidden = model(prime_input[p], hidden)\n",
    "    inp = prime_input[-1]\n",
    "    \n",
    "    for p in range(predict_len):\n",
    "        output, hidden = model(inp, hidden)\n",
    "        \n",
    "        # Sample from the network as a multinomial distribution\n",
    "        output_dist = output.data.view(-1).div(temperature).exp()\n",
    "        top_i = torch.multinomial(output_dist, 1)[0]\n",
    "        \n",
    "        # Add predicted character to string and use as next input\n",
    "        predicted_char = all_characters[top_i]\n",
    "        predicted += predicted_char\n",
    "        inp = char2tensor(predicted_char)\n",
    "        \n",
    "    return predicted"
   ]
  },
  {
   "cell_type": "markdown",
   "metadata": {},
   "source": [
    "## Training"
   ]
  },
  {
   "cell_type": "code",
   "execution_count": 8,
   "metadata": {},
   "outputs": [],
   "source": [
    "# helper function\n",
    "import time, math\n",
    "\n",
    "def time_since(since):\n",
    "    s = time.time() - since\n",
    "    m = math.floor(s/60)\n",
    "    s -= m*60\n",
    "    return '%dm %ds' % (m, s)"
   ]
  },
  {
   "cell_type": "code",
   "execution_count": 9,
   "metadata": {},
   "outputs": [],
   "source": [
    "# The actual training part\n",
    "def train(inp, target):\n",
    "    hidden = model.init_hidden()\n",
    "    model.zero_grad()\n",
    "    loss = 0\n",
    "\n",
    "    for char in range(chunk_len):\n",
    "        output, hidden = model(inp[char], hidden)\n",
    "        loss += criterion(output, target[char].unsqueeze(0))\n",
    "\n",
    "    loss.backward()\n",
    "    model_optimizer.step()\n",
    "\n",
    "    return loss.data.item() / chunk_len"
   ]
  },
  {
   "cell_type": "code",
   "execution_count": 10,
   "metadata": {},
   "outputs": [
    {
     "name": "stdout",
     "output_type": "stream",
     "text": [
      "[4m 52s (100 10%) 3.4454]\n",
      "A on in arin wring thers the as &C/7twit tnore, big comhentas silre wanis why ererate o is theed done  \n",
      "\n",
      "[7m 53s (200 20%) 2.1697]\n",
      "A It kechind this it a gee a comection the more on but his a la that for ouve comypent 2er corust.\n",
      "\n",
      "3f \n",
      "\n",
      "[10m 57s (300 30%) 2.0809]\n",
      "A mof this treance of blof cominvets any theen but you beated wore Betation it it to has not the mai a \n",
      "\n",
      "[13m 46s (400 40%) 2.3497]\n",
      "A voor get thar wass que cally of meamind boject notcu/remprict, bilus (guy by rejemive bucket in and  \n",
      "\n",
      "[16m 55s (500 50%) 1.8212]\n",
      "A with you can \"brout as dinfided for any way eventation for so cisteating and revealing inount plafti \n",
      "\n",
      "[22m 12s (600 60%) 2.0537]\n",
      "A --------------------------------------------------------\n",
      "\n",
      "\n",
      "- bution or bit do are hit about well of  \n",
      "\n",
      "[26m 39s (700 70%) 1.8365]\n",
      "A And ETH pers at he be from dated the retive have for dap don't fir stels a but and to relideJand lik \n",
      "\n",
      "[31m 12s (800 80%) 1.4426]\n",
      "A :) Spilated, and that comemations on runned be on increater. I a legaina knof the can't will addres  \n",
      "\n",
      "[35m 58s (900 90%) 2.2663]\n",
      "A perchase interestand if and what's and the prethied perance of tradity or to have the coadroined a t \n",
      "\n",
      "[40m 33s (1000 100%) 1.7085]\n",
      "A soare. \n",
      "\n",
      "That the bag that      Projects think it in at realine's will to think the market will sure \n",
      "\n"
     ]
    }
   ],
   "source": [
    "# parameters\n",
    "n_epochs = 1000\n",
    "print_every = 100\n",
    "plot_every = 10\n",
    "hidden_size = 256\n",
    "n_layers = 2\n",
    "learning_rate = 0.001\n",
    "\n",
    "# model declaration\n",
    "model = RNN(n_characters, hidden_size, n_characters, n_layers)\n",
    "model_optimizer = torch.optim.Adam(model.parameters(), lr=learning_rate)\n",
    "criterion = nn.CrossEntropyLoss()\n",
    "\n",
    "start = time.time()\n",
    "all_losses = []\n",
    "loss_avg = 0\n",
    "\n",
    "for epoch in range(1, n_epochs + 1):\n",
    "    loss = train(*random_training_set())       \n",
    "    loss_avg += loss\n",
    "\n",
    "    if epoch % print_every == 0:\n",
    "        print('[%s (%d %d%%) %.4f]' % (time_since(start), epoch, epoch / n_epochs * 100, loss))\n",
    "        print(evaluate(model, 'A ', 100), '\\n')\n",
    "\n",
    "    if epoch % plot_every == 0:\n",
    "        all_losses.append(loss_avg / plot_every)\n",
    "        loss_avg = 0"
   ]
  },
  {
   "cell_type": "code",
   "execution_count": 11,
   "metadata": {},
   "outputs": [
    {
     "data": {
      "text/plain": [
       "[<matplotlib.lines.Line2D at 0x11040ca90>]"
      ]
     },
     "execution_count": 11,
     "metadata": {},
     "output_type": "execute_result"
    },
    {
     "data": {
      "image/png": "[encoded data removed]",
      "text/plain": [
       "<Figure size 432x288 with 1 Axes>"
      ]
     },
     "metadata": {},
     "output_type": "display_data"
    }
   ],
   "source": [
    "import matplotlib.pyplot as plt\n",
    "import matplotlib.ticker as ticker\n",
    "%matplotlib inline\n",
    "\n",
    "plt.figure()\n",
    "plt.plot(all_losses)"
   ]
  },
  {
   "cell_type": "code",
   "execution_count": 12,
   "metadata": {},
   "outputs": [
    {
     "data": {
      "text/plain": [
       "1.621597328186035"
      ]
     },
     "execution_count": 12,
     "metadata": {},
     "output_type": "execute_result"
    }
   ],
   "source": [
    "min(all_losses) #not bad!!"
   ]
  },
  {
   "cell_type": "markdown",
   "metadata": {},
   "source": [
    "### Load pre-trained models"
   ]
  },
  {
   "cell_type": "code",
   "execution_count": 59,
   "metadata": {},
   "outputs": [
    {
     "name": "stdout",
     "output_type": "stream",
     "text": [
      "Cryptocurrency the developering the the sign mideration a static the product is the stration is the consultion and the project many sice the company and a lot the mo\n"
     ]
    }
   ],
   "source": [
    "# Evaluate Crypto\n",
    "print(evaluate(model, 'Cryptocurrency ', predict_len=150, temperature=0.4))"
   ]
  },
  {
   "cell_type": "code",
   "execution_count": 60,
   "metadata": {},
   "outputs": [
    {
     "name": "stdout",
     "output_type": "stream",
     "text": [
      "Ethereum the projects and the most the will be a starting the seems and the see the more the project is the token and the more in the see the project the start\n"
     ]
    }
   ],
   "source": [
    "# Evaluate Ethereum\n",
    "print(evaluate(model, 'Ethereum ', predict_len=150, temperature=0.15))"
   ]
  },
  {
   "cell_type": "code",
   "execution_count": 58,
   "metadata": {},
   "outputs": [
    {
     "name": "stdout",
     "output_type": "stream",
     "text": [
      "Shiba in this is the project spaning for a more a companing on are because the cryptocurrence is still the money project and the expertand the projects tech the more \n"
     ]
    }
   ],
   "source": [
    "# Evaluate Shiba\n",
    "print(evaluate(model, 'Shiba ', predict_len=160, temperature=0.55))"
   ]
  },
  {
   "cell_type": "code",
   "execution_count": 88,
   "metadata": {},
   "outputs": [
    {
     "name": "stdout",
     "output_type": "stream",
     "text": [
      "lambo stated to multiched the video it are a company a stratically are the stacting they the consition are a like a not at this will be the project. If you coin the most so in the metron\n"
     ]
    }
   ],
   "source": [
    "# Evaluate Lambo\n",
    "print(evaluate(model, 'lambo ', predict_len=180, temperature=0.55))"
   ]
  },
  {
   "cell_type": "code",
   "execution_count": 110,
   "metadata": {},
   "outputs": [
    {
     "name": "stdout",
     "output_type": "stream",
     "text": [
      "When mooners user of transting to sold of the transing there is paticious a place and from this the need the will to make don see is the because a prost that the more a platform the will wh\n"
     ]
    }
   ],
   "source": [
    "# Evaluate moon\n",
    "print(evaluate(model, 'When moon', predict_len=180, temperature=0.55))"
   ]
  },
  {
   "cell_type": "code",
   "execution_count": 118,
   "metadata": {},
   "outputs": [
    {
     "name": "stdout",
     "output_type": "stream",
     "text": [
      "new zealand and starting the funds are a bot, I don't real in the consice in the token it will project is the been a working to mean a starting the from the starting the project will be a litcoin the to miners a\n"
     ]
    }
   ],
   "source": [
    "# Evaluate zealand\n",
    "print(evaluate(model, 'new zealand', predict_len=200, temperature=0.4))"
   ]
  },
  {
   "cell_type": "code",
   "execution_count": 119,
   "metadata": {},
   "outputs": [],
   "source": [
    "def limiter(x, limit):\n",
    "    for i in range(len(x)):\n",
    "        if i >= limit and x[i] == \" \":\n",
    "            break\n",
    "    return x[:i]"
   ]
  },
  {
   "cell_type": "code",
   "execution_count": 153,
   "metadata": {},
   "outputs": [
    {
     "name": "stdout",
     "output_type": "stream",
     "text": [
      "Cthulhu and then will starting to contract future. Which is the starting in the to be the most more the the words should sort and companies of not contact, so how more in the creative\n",
      "--------------------\n",
      "New Zealand this people and more a consided on trying a really and the price being platform with not a project are do platform the most and the tokens our start the much at think in\n",
      "--------------------\n",
      "Cthulhu and there will greative the some a stratiple more is the need that how the are in the being  stratly see a new are is the pressiation are think sellieve assearch in the entire\n",
      "--------------------\n",
      "New Zealand the blockchain that a contract be a to does and the blockchain, can this to me all stratic the being as the to have the contoments and in think is from someain of they are\n",
      "--------------------\n",
      "Moonlambos the will the criptically, and should be for the someone things a towand on the exchanged be of the exchanges. \n",
      "\n",
      "But is allow are a lot me a like this that the most a comments\n",
      "--------------------\n",
      "New Zealand for the startment sounds for exchange, a not day investors on the new will new a company the project and feel of the started to parting will how the platform addreepto a\n",
      "--------------------\n",
      "Shiba be more are a products of the conarity project is a because a most check it will starting someone consing they that I are stecurrent funds the platform coins a platform will cost\n",
      "--------------------\n",
      "Moon extranded for the different a pay.   \n",
      "\n",
      "In the project will be a completely really a been that the new of the vilually how the token in is it to be chent is things see in the of\n",
      "--------------------\n",
      "Moonlambos of this product. \n",
      "\n",
      "I content.  There's good the more the compention and the solutions of the cross using to real is a like their still work their products are congrating\n",
      "--------------------\n",
      "Cthulhu from a coin and the crypto more a be support. \n",
      "\n",
      "You well a price a stated on the platform will platform with project.                                                       \n",
      "--------------------\n",
      "Cthulhu at the seems and good of the contraction of exchanges, to will see will this platform more of this project the parting like and a mosts of this surred to back of the are the\n",
      "--------------------\n",
      "Lambos the most the 2 First the to be will like the most be the coin on the which is are at the same and they are becore that is the token be the wisters to the exchange they set the\n",
      "--------------------\n",
      "Cthulhu platform are they wrin from is the project a consited as in will learn strative understand and as offering the platform of the some money can a based to pressolted. Aserations\n",
      "--------------------\n",
      "Moonlambos this a pernations go the project this post they are a proticurrency is a seart the very crypto be the stages converting they are are a plater solitcoin with that the sites\n",
      "--------------------\n",
      "Ethereum for solity. If you be a development for site a lot propes to be are will be the completed.  I are hand a little is and see the speed to be a more clansed at discomments a differented\n",
      "--------------------\n",
      "Ethereum the token startic some and still stribit of the looking the time and that will the the can but consided are are that here the just the basical sure [content post the mean is\n",
      "--------------------\n",
      "Charlie a starticles source the first a not the verso the sounds are companies. They was project. \n",
      "\n",
      "Thanks so many the seen the consert on the project. We was persons will be invight\n",
      "--------------------\n",
      "Ethereum a strotided the beconal are into that a developerations are are actions prade in the sure moders their streased they will working in their the market the messeemation of the\n",
      "--------------------\n",
      "Ethereum this source. In a developers and the market the solution of it are they amage. The are the conferencled for something think is a clanges to be sowing to a fines, in the platform\n",
      "--------------------\n",
      "Lambos so this is there's the stated of because is don't are is a blockchain the more that the more to be the strong community of then price still be a nearned the whon the might new\n",
      "--------------------\n",
      "Bitcoin as learn the deam can be an the platform from consishis are advertist the mive that the said the project the right and they exchanges the crypto have and working from are is\n",
      "--------------------\n",
      "Charlie is a stators of not of the contraction of the near as will to see the coin they are right the trains and the so in the provice in the more the possition it a with the tries.\n",
      "--------------------\n",
      "Moonlambos continustration what is are the but will money a comments that market? \n",
      "\n",
      "I will counther to see is people a content of the most the countrations good the same I'm beed then\n",
      "--------------------\n",
      "Shiba been a stweeting for mean in of the will the need in the to sure is a stuld got and stablection. Why good the being as you sure and a becoin in the downers and startil side the\n",
      "--------------------\n",
      "Shiba you can a strucking to the platforming very his promised open the will a not are informed at continitions at the project. I the most in this with the permone will see of the endically\n",
      "--------------------\n",
      "Lambos the in on the comments the platform what the offering ^^^^^^^^^^^^^^^^\\^[[[^^^^^^^^^^^^^^^^^^^^^^^|------------------------------------------------------------------------------------------------------------------------------------------------------\n",
      "--------------------\n",
      "Ethereum bethereum ICO sold reliection and the fine from more and sound than a down basis help comments. But the same a greating a products on the team in this presting now and the\n",
      "--------------------\n",
      "Shiba consure in it are the the will be repleased and the need the need is a bit Sing the Dixchain and appleen some and the my then the conerstors the nothing in the briggration see\n",
      "--------------------\n",
      "Lambos which is the will look see is not sure to many seems a stactions as an a still kinduch and coin soments will do stacted the promict and the will sure is will platform that the\n",
      "--------------------\n",
      "New Zealand other and the moberation more are the beeleady wond in a specited to be a stratically the needs are to see the will a same aways some this the Bitcoin and a few will be\n",
      "--------------------\n",
      "New Zealand at learn spect in they can will be appresents is the sitial saying the more in the exconsention as the because platform to a stritten. The will the bestors and and this\n",
      "--------------------\n",
      "Ethereum is a stages on the can you will platform side in restore the consider be a people that research and the most contact the most is the exchange the well more long in this sitecoin\n",
      "--------------------\n",
      "Shiba miner. It's a pict the series and the project a did the might the something they come on the platform and they are they are content an a mining in the tokens to the seen strage\n",
      "--------------------\n",
      "Charlie sure their crypto be actually have about the misted a bot of clanners. This is stratize ^^^^^^^^^^^^^^^^^^^^^^^^^^^^^^^^^^^^^^^^formation is a stratustratic on the project in\n",
      "--------------------\n",
      "New Zealand strong is you can see it's go more will did the team on the think computed in the still to consernt be at and  in the fire.   They are comments and how my don't app. We'll\n",
      "--------------------\n",
      "Ethereum investors and this is the exchange it vote the montern a statis the coins contry is like the never the their profit. We will be a steam the platform they are the were into\n",
      "--------------------\n",
      "Cthulhu perstable posted contractually will platform from something of see the is a most the provide of the the tose. \n",
      "\n",
      "I selling that then a bot be and the will so servic meant that\n",
      "--------------------\n",
      "New Zealand show approducts as company and bost you are have approfit. These more the more consicing the more on the comment to are in the project! Why the sound A for the [contrations\n",
      "--------------------\n",
      "Bitcoin of this see the block has a struction of a based will platform of the most the consign are a platformled to see the file you because is this product will be the most see the\n",
      "--------------------\n",
      "Charlie in the most there here.gitcoin platform to more a big and they are the project.  Now on the need to that the been a continity of the solution make the even the more solution\n",
      "--------------------\n"
     ]
    },
    {
     "name": "stdout",
     "output_type": "stream",
     "text": [
      "Ethereum is competed the alto which instations think the bot will stratically will the searisters this we can beerent more performent is a still project something the more bang and\n",
      "--------------------\n",
      "Cthulhu meant are a stratic a people release if you sure the contrience the need of the see the to somether the distrontion the more. What is the particle. Durch please as the expert\n",
      "--------------------\n",
      "Ethereum the are can on the project is the starting the so areing of the based and stratis of think is a store on the most their solution are a nice to which on they are a sleart users\n",
      "--------------------\n",
      "Cthulhu producting platfrations they have the be will be users the crypto platform of it of the more offerited is think and the because the market to please in the platform see is there\n",
      "--------------------\n",
      "Lambos project.  Without how doesn't have the sound in the trated could in there awould now the are post on they the cryptocurrent and the platform the will and that is the will harn\n",
      "--------------------\n",
      "New Zealand the platform the extraticle a way it would be in the coins this so worth of the exchanges that in platform to post in they are will be realing to see in of the when the\n",
      "--------------------\n",
      "Ethereum and startic in the starters on the $ET this see it will don't will see the excited to here the because is a got and it is some the close the as starting that at a greating\n",
      "--------------------\n",
      "Ethereum as a starting the exticulation and the exchange. Where it more of place in the developers are a steck is on the mate is now the most in to be a sort is the presentisisment\n",
      "--------------------\n",
      "New Zealand of beconed the so the will be a project. When post of the experiate in they are a real some it the more all the neard of the big in the more the with them the will be switcoin.\n",
      "--------------------\n",
      "Ethereum to be are a platform that the entilly some addressibutes and the moderstand to starting a sound the past readed stawred the coins are is are at a platform like it it's the\n",
      "--------------------\n",
      "Charlie they sough they cause to which you have a strating song it will be and strating and like in the most they are a did need the minerated. We disting to see the every the be up\n",
      "--------------------\n",
      "Ethereum is the competiticled of are coin at start those and amount is the comparing in the now it more token they can see contiple and the sure are mining will a becoin to a storence\n",
      "--------------------\n",
      "Lambos sellers the file as the changes that the new the new a please as starting the crypto considers.\n",
      "\n",
      "\n",
      "https://wwww.reddit.com/r/istersub.com/message/compete/compose/dedit](https://githous.com/plete/comments/7ttom/r/Better/compose/compresent/ritcoin)\n",
      "--------------------\n",
      "Lambos are and solution of there will have a becoin also are really in of the will be diveratically are is will hit are be to sure as the platform the like is a some is many in the\n",
      "--------------------\n",
      "Moonlambos sound and you can so a provided and like in the seen a because of this starticily will be a promiction is is contaction sure the money the time the point about the might\n",
      "--------------------\n",
      "Moonlambos on medition has be a promised in conferstand are the content a some the seems from that the is the will is things being the new some not controver. What have a stristing\n",
      "--------------------\n",
      "Ethereum that is a compands a greating lating the because strating the leased the to submit think which in the late amound being to scented the will be probaser are the more the future\n",
      "--------------------\n",
      "New Zealand of the blockchain contrated the handed and a starting to stact of the more is going the discussed a lot of the platform would ithing the stratisc in the project to still\n",
      "--------------------\n",
      "Charlie the most really are a still be of the based the startion of high you a startraction with out the more which the in the comments. \n",
      "\n",
      "For project of the future the more to media\n",
      "--------------------\n",
      "Bitcoin worth that think is the the block are a from posting of the will be to me they are a soment in the companies not a lot a bot some a hat the token a project. The most you people\n",
      "--------------------\n",
      "Lambos of the are are of that the project in the prossice is the project with exchange lease the crypting see it of the will waiting a contractually about it will hand only get can\n",
      "--------------------\n",
      "Bitcoin product is are contractions of the platform of the team so with are the main and really are the rounds stalt endy and been the please the contractly is something in the be of\n",
      "--------------------\n",
      "Shiba coins that allower and a still servality of the tokens will project will can will me a block and more it the project.  The transactions and the coins a performed the pleased a\n",
      "--------------------\n",
      "Lambos of them store. \n",
      "\n",
      "Any up and from money on a will subrides are you are scan a lot of the need like a not be in the team in the sign the will a to probal future which their project.\n",
      "--------------------\n",
      "Charlie are something the diluces at the see the like the coin of a clare the dona sure this a platform the mean scams to has it the will be a bot in manon and still sell side in they\n",
      "--------------------\n",
      "New Zealand project where the Dend of more investors.        I will are as a project is something for project of the first project is not to sure viliest and will be a don't the siated\n",
      "--------------------\n",
      "Bitcoin a state to many at project coin of still parting to project this in on the starting thein both now the #ndisted a were a here are as the nearing of the team of the even in this\n",
      "--------------------\n",
      "Charlie posting it is on the the blockchain this payment in the most meing the entire in the article as the I concerstions project the stration was a like the more is the tom a particially\n",
      "--------------------\n",
      "Bitcoin is a state the don't working and a blockchain There now.  Stratically are conticles the contactures can set the comments a promise more some more still starting you social many\n",
      "--------------------\n",
      "Lambos and sold the file the this shitcoi project thing price in starting in the see now will don't be now the product and a promisely a platform and stratic they are about the dopent\n",
      "--------------------\n",
      "New Zealand that and a strates stratisic this projects which in this the platform more a leaked is a blockchain very the need the big and project the near. Starting the diversed that\n",
      "--------------------\n",
      "Moon which they a space. We product is a don't really hearning the higher, it is lowing in the sign the to the file some to platform stredit of the seems to be a but is are in the son\n",
      "--------------------\n",
      "Bitcoin of the project that are the time of the more to streating like the partner project to contricity the exchange more in they aitime the video the besting a project they mean this\n",
      "--------------------\n",
      "Bitcoin and was a comparing reddit more a feed a still contractions those the incerments am that the more and a lot are more in this that are a buy it might platform and has projecting\n",
      "--------------------\n",
      "Lambos which and performed the tokens about you are contred to can a new will be you will price with of you the needs as continue on you are a clost of the crypto they are a big soin\n",
      "--------------------\n",
      "Ethereum sting the price higher that the comminitily the ending a strong difference exchange the coin.  \n",
      "\n",
      "Statications a pust the still a companing free are don't will the go see more\n",
      "--------------------\n",
      "Charlie the compent of the confers and you will bable a mention that are is just the to lot the promines will hee the over strating in the ways that the a sure the projects an part\n",
      "--------------------\n",
      "Moon and more companity of the blocked) the search that starting market and of the here in the platform unding in they will be in the more a products for they are are a lot the something\n",
      "--------------------\n",
      "Shiba platform. And a pirst now don't are the the beause of the need projects will not the market the mean can crypto has the trade will me is the Areative or the exchangeses a section\n",
      "--------------------\n",
      "Ethereum project will consic and the worth the \"contrating trust the like to mate the place informaticled we need the formmed sound you developments future to sign a posting that the\n",
      "--------------------\n"
     ]
    },
    {
     "name": "stdout",
     "output_type": "stream",
     "text": [
      "Bitcoin how and the project have the entigle a state to future you can learn the token it a greation of the meance the projectration of the most understage at they have a straticle\n",
      "--------------------\n",
      "Cthulhu status to be a got the product to startive when market released of the will the more the mean a stright the plat in this will be more the will stratis in the more on a will\n",
      "--------------------\n",
      "Lambos think it we have a pay on allows the so mean a site are a liquility of the to many was a more compented as many some platform and recentration still the consided the more of\n",
      "--------------------\n",
      "Lambos and consited contractions a platform to still have it will be and in the feelter on or new something the patic.     I'm are more a platform and the still at all now the incoin\n",
      "--------------------\n",
      "Moonlambos will more easier. \n",
      "\n",
      "| and on the mean is the crypto sign on the writcoin will mess that is the most they released to buy. Dust the project for loss on the more. What can\n",
      "--------------------\n",
      "New Zealand the coin and elpering users the more posting to be a strong the most don't will be see projects of a lot now working then exchanges in for a stratudes to the builtion starting\n",
      "--------------------\n",
      "Cthulhu will products go sound that will be the more awaiting a bad have. \n",
      "\n",
      "https://twitter.com/r/from.................................).. ^^mented and in starting the ecord more for\n",
      "--------------------\n",
      "Charlie as a becoin a lot for project. \n",
      "\n",
      "Controded because and project in the most the feel a platform is a future coin the are a place to the the stating the discressed the feelist\n",
      "--------------------\n",
      "Ethereum the mich exchange the run this controng the pict of the will complinest the beature the confirments see at of the there in already are a greation on the consition of the idea\n",
      "--------------------\n",
      "Shiba more and the money will product will discredit consive this securrence is they arached as only are on the token solution at the sign the being the compared to contraction. They\n",
      "--------------------\n",
      "New Zealand preations.  They are a consign on the more to be much are money the most the sold in the need or compless. Whelposed think a products the stratis to the need a buy the comming\n",
      "--------------------\n",
      "New Zealand and for a feed are up and still new to platforms to be as something the comment and they can goes to more the block it comment at really stages the big a went betterence\n",
      "--------------------\n",
      "Moonlambos of the exchanges and stead more the token sold can a profit see the exchanges now on it is the companient already and the sellet beated the exchangen why developen userate\n",
      "--------------------\n",
      "New Zealand are still concersians that the mining the big and more the platformments of the first and first is did not a same and the like this is the same the the for the consign out\n",
      "--------------------\n",
      "Shiba 2018 20188 of the will his you give of the companies. We works in opentions will be been solop ordatis of marketing of the coins evered and supporting strated of the project.\n",
      "--------------------\n",
      "New Zealand the money the platform so are are they contract at think the with and they have the coin the crypto have a projects, and a project of the expanies stration. But is good\n",
      "--------------------\n",
      "Moon and more a products is a seems are that you a mober. I the faile on the redit is the contraises startiple in the something to the newward to be a different a still need to has\n",
      "--------------------\n",
      "Cthulhu listed and to do in the simpation will see the complements to project is sold of The need a person any are this in that the sprecited from see it's and the the token it's a\n",
      "--------------------\n",
      "Lambos meansion is like the need user see the are will more at the from a nearns are their see down are into exchanges are in the Crypto be and the mention a project and fiund price\n",
      "--------------------\n",
      "Bitcoin a fine at the exchange a sapative world a platforms transactions are the feed to be see the propers a lot understand to buy when and most crypto the now now had a comment. I\n",
      "--------------------\n"
     ]
    }
   ],
   "source": [
    "import random\n",
    "seeds = ['New Zealand ','Cthulhu ','Bitcoin ','Ethereum ','Lambos ','Moonlambos ','Moon ','Shiba ','Charlie ']\n",
    "\n",
    "\n",
    "for _ in range(100):\n",
    "    seed = random.choice(seeds)\n",
    "    print(limiter(evaluate(model,seed, predict_len=250, temperature=0.57),180))\n",
    "    print('--'*10)"
   ]
  },
  {
   "cell_type": "code",
   "execution_count": null,
   "metadata": {},
   "outputs": [],
   "source": [
    "import os\n",
    "filepath = os.getcwd()\n",
    "print(filepath)\n",
    "print(filepath + '/martha_model_char_level_rnn.pt')\n",
    "torch.save(model.state_dict(), filepath + '/martha_model_char_level_rnn.pt')"
   ]
  }
 ],
 "metadata": {
  "kernelspec": {
   "display_name": "Python 3",
   "language": "python",
   "name": "python3"
  },
  "language_info": {
   "codemirror_mode": {
    "name": "ipython",
    "version": 3
   },
   "file_extension": ".py",
   "mimetype": "text/x-python",
   "name": "python",
   "nbconvert_exporter": "python",
   "pygments_lexer": "ipython3",
   "version": "3.6.5"
  }
 },
 "nbformat": 4,
 "nbformat_minor": 2
}
